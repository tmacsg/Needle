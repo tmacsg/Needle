{
 "cells": [
  {
   "cell_type": "code",
   "execution_count": 1,
   "metadata": {},
   "outputs": [
    {
     "name": "stdout",
     "output_type": "stream",
     "text": [
      "\u001b[1m============================= test session starts =============================\u001b[0m\n",
      "platform win32 -- Python 3.9.13, pytest-7.2.0, pluggy-1.0.0 -- c:\\Users\\JM Vistec\\AppData\\Local\\Programs\\Python\\Python39\\python.exe\n",
      "cachedir: .pytest_cache\n",
      "rootdir: c:\\Users\\JM Vistec\\Desktop\\Needle\n",
      "\u001b[1mcollecting ... \u001b[0mcollected 2023 items / 2013 deselected / 10 selected\n",
      "\n",
      "tests/test_conv.py::test_nn_conv_tranposed_forward[needle.backend_ndarray.ndarray_backend_cpu-4-8-16-3-1] 72 144 (3, 3, 8, 16)\n",
      "8 32 128 8 32 128 8 48 288 \u001b[32mPASSED\u001b[0m\n",
      "tests/test_conv.py::test_nn_conv_tranposed_forward[needle.backend_ndarray.ndarray_backend_cpu-32-8-16-3-2] 72 144 (3, 3, 8, 16)\n",
      "8 256 8192 8 504 31752 8 520 33800 \u001b[32mPASSED\u001b[0m\n",
      "tests/test_conv.py::test_nn_conv_tranposed_forward[needle.backend_ndarray.ndarray_backend_cpu-32-8-8-3-2] 72 72 (3, 3, 8, 8)\n",
      "8 256 8192 8 504 31752 8 520 33800 \u001b[32mPASSED\u001b[0m\n",
      "tests/test_conv.py::test_nn_conv_tranposed_forward[needle.backend_ndarray.ndarray_backend_cpu-32-16-8-3-1] 144 72 (3, 3, 16, 8)\n",
      "16 512 16384 16 512 16384 16 544 18496 \u001b[32mPASSED\u001b[0m\n",
      "tests/test_conv.py::test_nn_conv_tranposed_forward[needle.backend_ndarray.ndarray_backend_cpu-32-16-8-3-2] 144 72 (3, 3, 16, 8)\n",
      "16 512 16384 16 1008 63504 16 1040 67600 \u001b[32mPASSED\u001b[0m\n",
      "tests/test_conv.py::test_nn_conv_tranposed_forward[needle.backend_ndarray.ndarray_backend_cuda-4-8-16-3-1] 72 144 (3, 3, 8, 16)\n",
      "\u001b[32mPASSED\u001b[0m\n",
      "tests/test_conv.py::test_nn_conv_tranposed_forward[needle.backend_ndarray.ndarray_backend_cuda-32-8-16-3-2] 72 144 (3, 3, 8, 16)\n",
      "\u001b[32mPASSED\u001b[0m\n",
      "tests/test_conv.py::test_nn_conv_tranposed_forward[needle.backend_ndarray.ndarray_backend_cuda-32-8-8-3-2] 72 72 (3, 3, 8, 8)\n",
      "\u001b[32mPASSED\u001b[0m\n",
      "tests/test_conv.py::test_nn_conv_tranposed_forward[needle.backend_ndarray.ndarray_backend_cuda-32-16-8-3-1] 144 72 (3, 3, 16, 8)\n",
      "\u001b[32mPASSED\u001b[0m\n",
      "tests/test_conv.py::test_nn_conv_tranposed_forward[needle.backend_ndarray.ndarray_backend_cuda-32-16-8-3-2] 144 72 (3, 3, 16, 8)\n",
      "\u001b[32mPASSED\u001b[0m\n",
      "\n",
      "\u001b[32m==================== \u001b[32m\u001b[1m10 passed\u001b[0m, \u001b[33m2013 deselected\u001b[0m\u001b[32m in 12.61s\u001b[0m\u001b[32m =====================\u001b[0m\n"
     ]
    }
   ],
   "source": [
    "# !python -m pytest -l -v -s -k \"nd_backend\"\n",
    "# !python -m pytest -l -v -s -k \"cifar10\"\n",
    "# !python -m pytest -l -v -s -k \"op_conv and backward\"\n",
    "# !python -m pytest -l -v -s -k \"pad\"\n",
    "# !python -m pytest -l -v -s -k \"flip\"\n",
    "# !python -m pytest -l -v -s -k \"dilate\"\n",
    "# !python -m pytest -l -v -s -k \"op_conv and forward\"\n",
    "# !python -m pytest -l -v -s -k \"kaiming_uniform\"\n",
    "# !python -m pytest -l -v -s -k \"nn_conv_forward\"\n",
    "# !python -m pytest -l -v -s -k \"nn_conv_backward\"\n",
    "# !python -m pytest -l -v -s -k \"resnet9\"\n",
    "# !python -m pytest -l -v -s -k \"test_rnn_cell\"\n",
    "# !python -m pytest -l -v -s -k \"test_rnn\"\n",
    "# !python -m pytest -l -v -s -k \"test_lstm\"\n",
    "# !python -m pytest -l -v -s -k \"ptb\"\n",
    "# !python -m pytest -l -v -s -k \"language_model_implementation\"\n",
    "# !python -m pytest -l -v -s -k \"language_model_training\"\n",
    "# !python -m pytest -l -v -s -k \"test_op_conv_tranposed\"test_nn_conv_forward\n",
    "!python -m pytest -l -v -s -k \"test_nn_conv_tranposed_forward\""
   ]
  }
 ],
 "metadata": {
  "kernelspec": {
   "display_name": "Python 3",
   "language": "python",
   "name": "python3"
  },
  "language_info": {
   "codemirror_mode": {
    "name": "ipython",
    "version": 3
   },
   "file_extension": ".py",
   "mimetype": "text/x-python",
   "name": "python",
   "nbconvert_exporter": "python",
   "pygments_lexer": "ipython3",
   "version": "3.9.13"
  },
  "orig_nbformat": 4,
  "vscode": {
   "interpreter": {
    "hash": "c949ebd309020224889aea414400a085a42f564b85177986581291aba9fea210"
   }
  }
 },
 "nbformat": 4,
 "nbformat_minor": 2
}
