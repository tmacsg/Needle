{
 "cells": [
  {
   "cell_type": "code",
   "execution_count": null,
   "metadata": {},
   "outputs": [],
   "source": [
    "# !python -m pytest -l -v -s -k \"nd_backend\"\n",
    "# !python -m pytest -l -v -s -k \"cifar10\"\n",
    "# !python -m pytest -l -v -s -k \"op_conv and backward\"\n",
    "# !python -m pytest -l -v -s -k \"pad\"\n",
    "# !python -m pytest -l -v -s -k \"flip\"\n",
    "# !python -m pytest -l -v -s -k \"dilate\"\n",
    "# !python -m pytest -l -v -s -k \"op_conv and forward\"\n",
    "# !python -m pytest -l -v -s -k \"kaiming_uniform\"\n",
    "# !python -m pytest -l -v -s -k \"nn_conv_forward\"\n",
    "# !python -m pytest -l -v -s -k \"nn_conv_backward\"\n",
    "# !python -m pytest -l -v -s -k \"resnet9\"\n",
    "# !python -m pytest -l -v -s -k \"test_rnn_cell\"\n",
    "# !python -m pytest -l -v -s -k \"test_rnn\"\n",
    "# !python -m pytest -l -v -s -k \"test_lstm\"\n",
    "# !python -m pytest -l -v -s -k \"ptb\"\n",
    "# !python -m pytest -l -v -s -k \"language_model_implementation\"\n",
    "# !python -m pytest -l -v -s -k \"language_model_training\"\n",
    "!python -m pytest -l -v -s -k \"test_op_conv_tranposed\""
   ]
  }
 ],
 "metadata": {
  "kernelspec": {
   "display_name": "Python 3",
   "language": "python",
   "name": "python3"
  },
  "language_info": {
   "codemirror_mode": {
    "name": "ipython",
    "version": 3
   },
   "file_extension": ".py",
   "mimetype": "text/x-python",
   "name": "python",
   "nbconvert_exporter": "python",
   "pygments_lexer": "ipython3",
   "version": "3.9.13"
  },
  "orig_nbformat": 4,
  "vscode": {
   "interpreter": {
    "hash": "c949ebd309020224889aea414400a085a42f564b85177986581291aba9fea210"
   }
  }
 },
 "nbformat": 4,
 "nbformat_minor": 2
}
